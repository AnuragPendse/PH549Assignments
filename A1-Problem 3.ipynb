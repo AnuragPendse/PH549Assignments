{
 "cells": [
  {
   "cell_type": "code",
   "execution_count": 7,
   "id": "b21d6f4c",
   "metadata": {},
   "outputs": [],
   "source": [
    "import numpy as np\n",
    "import matplotlib.pyplot as plt\n"
   ]
  },
  {
   "cell_type": "code",
   "execution_count": 64,
   "id": "ee76ccad",
   "metadata": {},
   "outputs": [],
   "source": [
    "class poisson:\n",
    "    def __init__(self,r_avg, T, dt):\n",
    "        self.int = dt\n",
    "        self.T = T\n",
    "        self.r = r_avg\n",
    "        self.thresh = 1-(self.r*self.int)\n",
    "    \n",
    "    def unirandno(self):\n",
    "        a = np.random.uniform()\n",
    "        if (a>=self.thresh):\n",
    "            return 1\n",
    "        else:\n",
    "            return 0\n",
    "    \n",
    "    def eventcounter(self, tau, loops):\n",
    "        N=int(tau/self.int)\n",
    "        cnt = [0 for i in range(N+1)]\n",
    "        \n",
    "        for j in range(loops):\n",
    "            ctr=0\n",
    "            for i in range(N):\n",
    "                u=self.unirandno()\n",
    "                if (u==1):\n",
    "                    ctr = ctr+1\n",
    "            cnt[ctr] = cnt[ctr]+1\n",
    "         \n",
    "        return cnt\n",
    "    \n",
    "    def plotter(self, tau, loops):\n",
    "        N=tau/self.int\n",
    "        ctrnum = np.arange(0,N+1)\n",
    "        cnt = self.eventcounter(tau,loops)\n",
    "        plt.bar(ctrnum,cnt)\n",
    "        \n",
    "     \n",
    "    def tintcalc(self,loops):\n",
    "        ctarr=[0 for i in range(0,15)]\n",
    "        for i in range(loops):\n",
    "            f=0\n",
    "            ctr=0\n",
    "            while (f==0):\n",
    "                u=self.unirandno()\n",
    "                if (u==1):\n",
    "                    f=f+1\n",
    "                else :\n",
    "                    ctr = ctr+1\n",
    "            if (ctr<15):\n",
    "                ctarr[ctr] = ctarr[ctr]+1\n",
    "    \n",
    "        return ctarr\n",
    "        "
   ]
  },
  {
   "cell_type": "code",
   "execution_count": 49,
   "id": "c8df31c0",
   "metadata": {},
   "outputs": [
    {
     "data": {
      "image/png": "[encoded data removed]",
      "text/plain": [
       "<Figure size 432x288 with 1 Axes>"
      ]
     },
     "metadata": {
      "needs_background": "light"
     },
     "output_type": "display_data"
    }
   ],
   "source": [
    "#(b)\n",
    "z = poisson(10,1000,0.05)\n",
    "z.plotter(10,1000)\n",
    "\n"
   ]
  },
  {
   "cell_type": "code",
   "execution_count": 50,
   "id": "0d65039d",
   "metadata": {},
   "outputs": [
    {
     "data": {
      "image/png": "[encoded data removed]",
      "text/plain": [
       "<Figure size 432x288 with 1 Axes>"
      ]
     },
     "metadata": {
      "needs_background": "light"
     },
     "output_type": "display_data"
    }
   ],
   "source": [
    "#(c)\n",
    "z = poisson(10,1000,0.05)\n",
    "z.plotter(1,1000) #blue\n",
    "z.plotter(5,1000) #orange\n",
    "z.plotter(10,1000)#green"
   ]
  },
  {
   "cell_type": "code",
   "execution_count": 65,
   "id": "11c0fa2e",
   "metadata": {},
   "outputs": [
    {
     "data": {
      "text/plain": [
       "<BarContainer object of 15 artists>"
      ]
     },
     "execution_count": 65,
     "metadata": {},
     "output_type": "execute_result"
    },
    {
     "data": {
      "image/png": "[encoded data removed]",
      "text/plain": [
       "<Figure size 432x288 with 1 Axes>"
      ]
     },
     "metadata": {
      "needs_background": "light"
     },
     "output_type": "display_data"
    }
   ],
   "source": [
    "z = poisson(10,1000,0.05)\n",
    "a = z.tintcalc(1000)\n",
    "b=np.arange(0,15)\n",
    "plt.bar(b,a)"
   ]
  },
  {
   "cell_type": "code",
   "execution_count": 75,
   "id": "b414e390",
   "metadata": {},
   "outputs": [
    {
     "data": {
      "image/png": "[encoded data removed]",
      "text/plain": [
       "<Figure size 432x288 with 1 Axes>"
      ]
     },
     "metadata": {
      "needs_background": "light"
     },
     "output_type": "display_data"
    }
   ],
   "source": [
    "c=[]\n",
    "for i in range(6):\n",
    "    c.append(np.log(a[i]))\n",
    "plt.scatter(b[0:6],c)  #This is linear implying the distribution is expnential   "
   ]
  },
  {
   "cell_type": "code",
   "execution_count": 80,
   "id": "4ca9b82d",
   "metadata": {},
   "outputs": [
    {
     "data": {
      "text/plain": [
       "2.1275720164609053"
      ]
     },
     "execution_count": 80,
     "metadata": {},
     "output_type": "execute_result"
    }
   ],
   "source": [
    "a[0]/a[1] #The exponent k is exactly the rate r. "
   ]
  }
 ],
 "metadata": {
  "kernelspec": {
   "display_name": "Python 3 (ipykernel)",
   "language": "python",
   "name": "python3"
  },
  "language_info": {
   "codemirror_mode": {
    "name": "ipython",
    "version": 3
   },
   "file_extension": ".py",
   "mimetype": "text/x-python",
   "name": "python",
   "nbconvert_exporter": "python",
   "pygments_lexer": "ipython3",
   "version": "3.9.7"
  }
 },
 "nbformat": 4,
 "nbformat_minor": 5
}
